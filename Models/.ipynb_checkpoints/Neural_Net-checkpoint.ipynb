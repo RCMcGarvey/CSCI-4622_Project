{
 "cells": [
  {
   "cell_type": "code",
   "execution_count": 194,
   "metadata": {},
   "outputs": [],
   "source": [
    "import pandas as pd\n",
    "import matplotlib.pyplot as plt\n",
    "from matplotlib import rcParams\n",
    "rcParams['figure.figsize'] = 10,7\n",
    "\n",
    "import numpy as np\n",
    "np.random.seed(0)\n",
    "%matplotlib inline\n",
    "\n",
    "\n",
    "from sklearn.neural_network import MLPClassifier\n",
    "\n",
    "\n",
    "\n",
    "from keras.models import Sequential\n",
    "from keras.layers import Dense\n",
    "from keras.wrappers.scikit_learn import KerasClassifier\n",
    "from sklearn.model_selection import StratifiedKFold\n",
    "from sklearn.model_selection import cross_val_score\n",
    "from sklearn.model_selection import GridSearchCV"
   ]
  },
  {
   "cell_type": "code",
   "execution_count": 100,
   "metadata": {},
   "outputs": [],
   "source": [
    "#label columns\n",
    "features = ['S1', 'C1', 'S2', 'C2', 'S3', 'C3', 'S4', 'C4', 'S5', 'C5', 'CLASS']\n",
    "\n",
    "#import testing data\n",
    "training_data = pd.read_csv('../test_train_data/poker-hand-training-true.data', names=features)"
   ]
  },
  {
   "cell_type": "code",
   "execution_count": 101,
   "metadata": {},
   "outputs": [
    {
     "data": {
      "text/html": [
       "<div>\n",
       "<style>\n",
       "    .dataframe thead tr:only-child th {\n",
       "        text-align: right;\n",
       "    }\n",
       "\n",
       "    .dataframe thead th {\n",
       "        text-align: left;\n",
       "    }\n",
       "\n",
       "    .dataframe tbody tr th {\n",
       "        vertical-align: top;\n",
       "    }\n",
       "</style>\n",
       "<table border=\"1\" class=\"dataframe\">\n",
       "  <thead>\n",
       "    <tr style=\"text-align: right;\">\n",
       "      <th></th>\n",
       "      <th>S1</th>\n",
       "      <th>C1</th>\n",
       "      <th>S2</th>\n",
       "      <th>C2</th>\n",
       "      <th>S3</th>\n",
       "      <th>C3</th>\n",
       "      <th>S4</th>\n",
       "      <th>C4</th>\n",
       "      <th>S5</th>\n",
       "      <th>C5</th>\n",
       "      <th>CLASS</th>\n",
       "    </tr>\n",
       "  </thead>\n",
       "  <tbody>\n",
       "    <tr>\n",
       "      <th>0</th>\n",
       "      <td>1</td>\n",
       "      <td>10</td>\n",
       "      <td>1</td>\n",
       "      <td>11</td>\n",
       "      <td>1</td>\n",
       "      <td>13</td>\n",
       "      <td>1</td>\n",
       "      <td>12</td>\n",
       "      <td>1</td>\n",
       "      <td>1</td>\n",
       "      <td>9</td>\n",
       "    </tr>\n",
       "    <tr>\n",
       "      <th>1</th>\n",
       "      <td>2</td>\n",
       "      <td>11</td>\n",
       "      <td>2</td>\n",
       "      <td>13</td>\n",
       "      <td>2</td>\n",
       "      <td>10</td>\n",
       "      <td>2</td>\n",
       "      <td>12</td>\n",
       "      <td>2</td>\n",
       "      <td>1</td>\n",
       "      <td>9</td>\n",
       "    </tr>\n",
       "    <tr>\n",
       "      <th>2</th>\n",
       "      <td>3</td>\n",
       "      <td>12</td>\n",
       "      <td>3</td>\n",
       "      <td>11</td>\n",
       "      <td>3</td>\n",
       "      <td>13</td>\n",
       "      <td>3</td>\n",
       "      <td>10</td>\n",
       "      <td>3</td>\n",
       "      <td>1</td>\n",
       "      <td>9</td>\n",
       "    </tr>\n",
       "    <tr>\n",
       "      <th>3</th>\n",
       "      <td>4</td>\n",
       "      <td>10</td>\n",
       "      <td>4</td>\n",
       "      <td>11</td>\n",
       "      <td>4</td>\n",
       "      <td>1</td>\n",
       "      <td>4</td>\n",
       "      <td>13</td>\n",
       "      <td>4</td>\n",
       "      <td>12</td>\n",
       "      <td>9</td>\n",
       "    </tr>\n",
       "    <tr>\n",
       "      <th>4</th>\n",
       "      <td>4</td>\n",
       "      <td>1</td>\n",
       "      <td>4</td>\n",
       "      <td>13</td>\n",
       "      <td>4</td>\n",
       "      <td>12</td>\n",
       "      <td>4</td>\n",
       "      <td>11</td>\n",
       "      <td>4</td>\n",
       "      <td>10</td>\n",
       "      <td>9</td>\n",
       "    </tr>\n",
       "    <tr>\n",
       "      <th>5</th>\n",
       "      <td>1</td>\n",
       "      <td>2</td>\n",
       "      <td>1</td>\n",
       "      <td>4</td>\n",
       "      <td>1</td>\n",
       "      <td>5</td>\n",
       "      <td>1</td>\n",
       "      <td>3</td>\n",
       "      <td>1</td>\n",
       "      <td>6</td>\n",
       "      <td>8</td>\n",
       "    </tr>\n",
       "    <tr>\n",
       "      <th>6</th>\n",
       "      <td>1</td>\n",
       "      <td>9</td>\n",
       "      <td>1</td>\n",
       "      <td>12</td>\n",
       "      <td>1</td>\n",
       "      <td>10</td>\n",
       "      <td>1</td>\n",
       "      <td>11</td>\n",
       "      <td>1</td>\n",
       "      <td>13</td>\n",
       "      <td>8</td>\n",
       "    </tr>\n",
       "    <tr>\n",
       "      <th>7</th>\n",
       "      <td>2</td>\n",
       "      <td>1</td>\n",
       "      <td>2</td>\n",
       "      <td>2</td>\n",
       "      <td>2</td>\n",
       "      <td>3</td>\n",
       "      <td>2</td>\n",
       "      <td>4</td>\n",
       "      <td>2</td>\n",
       "      <td>5</td>\n",
       "      <td>8</td>\n",
       "    </tr>\n",
       "    <tr>\n",
       "      <th>8</th>\n",
       "      <td>3</td>\n",
       "      <td>5</td>\n",
       "      <td>3</td>\n",
       "      <td>6</td>\n",
       "      <td>3</td>\n",
       "      <td>9</td>\n",
       "      <td>3</td>\n",
       "      <td>7</td>\n",
       "      <td>3</td>\n",
       "      <td>8</td>\n",
       "      <td>8</td>\n",
       "    </tr>\n",
       "    <tr>\n",
       "      <th>9</th>\n",
       "      <td>4</td>\n",
       "      <td>1</td>\n",
       "      <td>4</td>\n",
       "      <td>4</td>\n",
       "      <td>4</td>\n",
       "      <td>2</td>\n",
       "      <td>4</td>\n",
       "      <td>3</td>\n",
       "      <td>4</td>\n",
       "      <td>5</td>\n",
       "      <td>8</td>\n",
       "    </tr>\n",
       "  </tbody>\n",
       "</table>\n",
       "</div>"
      ],
      "text/plain": [
       "   S1  C1  S2  C2  S3  C3  S4  C4  S5  C5  CLASS\n",
       "0   1  10   1  11   1  13   1  12   1   1      9\n",
       "1   2  11   2  13   2  10   2  12   2   1      9\n",
       "2   3  12   3  11   3  13   3  10   3   1      9\n",
       "3   4  10   4  11   4   1   4  13   4  12      9\n",
       "4   4   1   4  13   4  12   4  11   4  10      9\n",
       "5   1   2   1   4   1   5   1   3   1   6      8\n",
       "6   1   9   1  12   1  10   1  11   1  13      8\n",
       "7   2   1   2   2   2   3   2   4   2   5      8\n",
       "8   3   5   3   6   3   9   3   7   3   8      8\n",
       "9   4   1   4   4   4   2   4   3   4   5      8"
      ]
     },
     "execution_count": 101,
     "metadata": {},
     "output_type": "execute_result"
    }
   ],
   "source": [
    "training_data.head(10)"
   ]
  },
  {
   "cell_type": "code",
   "execution_count": 88,
   "metadata": {},
   "outputs": [
    {
     "name": "stdout",
     "output_type": "stream",
     "text": [
      "Number of Rows: 25010\n",
      "Number of Columns: 11\n",
      "Number of Data Points: 275110\n",
      "Dimensions: (25010, 11)\n"
     ]
    }
   ],
   "source": [
    "#Information about the training data:\n",
    "print(f\"Number of Rows: {len(training_data.index)}\")\n",
    "print(f\"Number of Columns: {len(training_data.columns)}\")\n",
    "print(f\"Number of Data Points: {training_data.size}\")\n",
    "print(f\"Dimensions: {training_data.shape}\")"
   ]
  },
  {
   "cell_type": "code",
   "execution_count": 89,
   "metadata": {},
   "outputs": [
    {
     "name": "stdout",
     "output_type": "stream",
     "text": [
      "{0: 12493, 1: 10599, 2: 1206, 3: 513, 4: 93, 5: 54, 6: 36, 7: 6, 8: 5, 9: 5}\n"
     ]
    }
   ],
   "source": [
    "#Class Information\n",
    "num_classes = 10\n",
    "classes = {}\n",
    "\n",
    "#get how many rows result in each class\n",
    "for i in range(num_classes):\n",
    "    classes[i] = len(training_data[training_data.CLASS == i])\n",
    "print(classes)"
   ]
  },
  {
   "cell_type": "code",
   "execution_count": 90,
   "metadata": {},
   "outputs": [],
   "source": [
    "hand_ids = list(range(10))\n",
    "hand_name = {\n",
    "    0: 'Nothing in Hand',\n",
    "    1: 'One Pair',\n",
    "    2: 'Two Pairs',\n",
    "    3: 'Three of A Kind',\n",
    "    4: 'Straight',\n",
    "    5: 'Flush',\n",
    "    6: 'Full House',\n",
    "    7: 'Four of a Kind',\n",
    "    8: 'Straight Flush',\n",
    "    9: 'Royal Flush'\n",
    "}"
   ]
  },
  {
   "cell_type": "code",
   "execution_count": 91,
   "metadata": {},
   "outputs": [
    {
     "name": "stdout",
     "output_type": "stream",
     "text": [
      "(0) Nothing in Hand: 12493\n",
      "(1) One Pair: 10599\n",
      "(2) Two Pairs: 1206\n",
      "(3) Three of A Kind: 513\n",
      "(4) Straight: 93\n",
      "(5) Flush: 54\n",
      "(6) Full House: 36\n",
      "(7) Four of a Kind: 6\n",
      "(8) Straight Flush: 5\n",
      "(9) Royal Flush: 5\n"
     ]
    }
   ],
   "source": [
    "for i in poker_hands:\n",
    "    print(f\"({hand_ids[i]}) {hand_name[i]}: {classes[i]}\")"
   ]
  },
  {
   "cell_type": "code",
   "execution_count": 92,
   "metadata": {},
   "outputs": [
    {
     "data": {
      "text/plain": [
       "Text(0.5,1,'Instances of Poker Hands in Training Data')"
      ]
     },
     "execution_count": 92,
     "metadata": {},
     "output_type": "execute_result"
    },
    {
     "data": {
      "image/png": "[encoded data removed]",
      "text/plain": [
       "<matplotlib.figure.Figure at 0x7fedc6416b70>"
      ]
     },
     "metadata": {
      "needs_background": "light"
     },
     "output_type": "display_data"
    }
   ],
   "source": [
    "plt.bar(poker_hands, [classes[i] for i in hand_ids], align = 'center')\n",
    "plt.xlabel('Poker Hand ID')\n",
    "plt.ylabel('Number of Instances')\n",
    "plt.title(\"Instances of Poker Hands in Training Data\")"
   ]
  },
  {
   "cell_type": "code",
   "execution_count": 99,
   "metadata": {},
   "outputs": [],
   "source": [
    "X_train = training_data.iloc[:, 0: 10].as_matrix() #first 10 columns\n",
    "y_train = training_data.iloc[:, 10].as_matrix() #last column (classification/poker hand type)"
   ]
  },
  {
   "cell_type": "code",
   "execution_count": 123,
   "metadata": {},
   "outputs": [],
   "source": [
    "#import testing data\n",
    "testing_data = pd.read_csv('../test_train_data/poker-hand-testing.data', names=features)\n",
    "X_test = testing_data.iloc[:, 0: 10].as_matrix() #first 10 columns\n",
    "y_test = testing_data.iloc[:, 10].as_matrix() #last column (classification/poker hand type)  "
   ]
  },
  {
   "cell_type": "markdown",
   "metadata": {},
   "source": [
    "### MLP 1: 2 layers (5, 2)"
   ]
  },
  {
   "cell_type": "code",
   "execution_count": 132,
   "metadata": {},
   "outputs": [
    {
     "data": {
      "text/plain": [
       "MLPClassifier(activation='relu', alpha=1e-05, batch_size='auto', beta_1=0.9,\n",
       "       beta_2=0.999, early_stopping=False, epsilon=1e-08,\n",
       "       hidden_layer_sizes=(5, 2), learning_rate='constant',\n",
       "       learning_rate_init=0.001, max_iter=200, momentum=0.9,\n",
       "       nesterovs_momentum=True, power_t=0.5, random_state=1, shuffle=True,\n",
       "       solver='adam', tol=0.0001, validation_fraction=0.1, verbose=False,\n",
       "       warm_start=False)"
      ]
     },
     "execution_count": 132,
     "metadata": {},
     "output_type": "execute_result"
    }
   ],
   "source": [
    "#setup neural net using sklearn\n",
    "clf1 = MLPClassifier(solver='adam', alpha = 1e-5, hidden_layer_sizes=(5, 2), random_state = 1)\n",
    "clf1.fit(X_train, y_train)"
   ]
  },
  {
   "cell_type": "code",
   "execution_count": 135,
   "metadata": {},
   "outputs": [
    {
     "name": "stdout",
     "output_type": "stream",
     "text": [
      "501209 498791\n"
     ]
    }
   ],
   "source": [
    "#predict labels of testing data using\n",
    "\n",
    "predictions = clf1.predict(X_test)\n",
    "actual = y_test\n",
    "comparison = predictions == actual #do the values match?\n",
    "\n",
    "correct = np.count_nonzero(comparison == True) #count of trues in comparison\n",
    "incorrect = np.count_nonzero(comparison == False) #cound of falses\n",
    "print(correct, incorrect)"
   ]
  },
  {
   "cell_type": "code",
   "execution_count": 136,
   "metadata": {},
   "outputs": [
    {
     "data": {
      "text/plain": [
       "Text(0.5,1,'Instances of Correct/Incorrect in Prediction')"
      ]
     },
     "execution_count": 136,
     "metadata": {},
     "output_type": "execute_result"
    },
    {
     "data": {
      "image/png": "[encoded data removed]",
      "text/plain": [
       "<matplotlib.figure.Figure at 0x7fed87d19080>"
      ]
     },
     "metadata": {
      "needs_background": "light"
     },
     "output_type": "display_data"
    }
   ],
   "source": [
    "plt.bar(['correct', 'incorrect'], [correct, incorrect], align = 'center')\n",
    "plt.xlabel('Correct/Incorrect')\n",
    "plt.ylabel('Number of Instances')\n",
    "plt.title(\"Instances of Correct/Incorrect in Prediction\")"
   ]
  },
  {
   "cell_type": "markdown",
   "metadata": {},
   "source": [
    "### MLP 2: 5 layers (100, 50, 20, 10, 5)"
   ]
  },
  {
   "cell_type": "code",
   "execution_count": 140,
   "metadata": {},
   "outputs": [
    {
     "data": {
      "text/plain": [
       "MLPClassifier(activation='relu', alpha=1e-05, batch_size='auto', beta_1=0.9,\n",
       "       beta_2=0.999, early_stopping=False, epsilon=1e-08,\n",
       "       hidden_layer_sizes=(100, 50, 20, 10, 5), learning_rate='constant',\n",
       "       learning_rate_init=0.001, max_iter=200, momentum=0.9,\n",
       "       nesterovs_momentum=True, power_t=0.5, random_state=1, shuffle=True,\n",
       "       solver='adam', tol=0.0001, validation_fraction=0.1, verbose=False,\n",
       "       warm_start=False)"
      ]
     },
     "execution_count": 140,
     "metadata": {},
     "output_type": "execute_result"
    }
   ],
   "source": [
    "#setup neural net with bigger hidden layer sizes using sklearn\n",
    "clf2 = MLPClassifier(solver='adam', alpha = 1e-5, hidden_layer_sizes=(100, 50, 20, 10, 5), random_state = 1)\n",
    "clf2.fit(X_train, y_train)"
   ]
  },
  {
   "cell_type": "code",
   "execution_count": 141,
   "metadata": {},
   "outputs": [
    {
     "name": "stdout",
     "output_type": "stream",
     "text": [
      "835583 164417\n"
     ]
    }
   ],
   "source": [
    "#predict labels of testing data using\n",
    "predictions = clf2.predict(X_test)\n",
    "actual = y_test\n",
    "comparison = predictions == actual #do the values match?\n",
    "\n",
    "correct = np.count_nonzero(comparison == True) #count of trues in comparison\n",
    "incorrect = np.count_nonzero(comparison == False) #count of falses\n",
    "print(correct, incorrect)"
   ]
  },
  {
   "cell_type": "code",
   "execution_count": 144,
   "metadata": {},
   "outputs": [
    {
     "data": {
      "text/plain": [
       "Text(0.5,1,'Instances of Correct/Incorrect in Prediction')"
      ]
     },
     "execution_count": 144,
     "metadata": {},
     "output_type": "execute_result"
    },
    {
     "data": {
      "image/png": "[encoded data removed]",
      "text/plain": [
       "<matplotlib.figure.Figure at 0x7fed74a26a90>"
      ]
     },
     "metadata": {
      "needs_background": "light"
     },
     "output_type": "display_data"
    }
   ],
   "source": [
    "plt.bar(['correct', 'incorrect'], [correct, incorrect], align = 'center')\n",
    "plt.xlabel('Correct/Incorrect')\n",
    "plt.ylabel('Number of Instances')\n",
    "plt.title(\"Instances of Correct/Incorrect in Prediction\")"
   ]
  },
  {
   "cell_type": "markdown",
   "metadata": {},
   "source": [
    "### MLP 3: 8 layers (1000, 500, 200, 100, 50, 20, 10, 5)"
   ]
  },
  {
   "cell_type": "code",
   "execution_count": 177,
   "metadata": {},
   "outputs": [
    {
     "data": {
      "text/plain": [
       "MLPClassifier(activation='relu', alpha=1e-05, batch_size='auto', beta_1=0.9,\n",
       "       beta_2=0.999, early_stopping=False, epsilon=1e-08,\n",
       "       hidden_layer_sizes=(1000, 500, 200, 100, 50, 20, 10, 5),\n",
       "       learning_rate='constant', learning_rate_init=0.001, max_iter=200,\n",
       "       momentum=0.9, nesterovs_momentum=True, power_t=0.5, random_state=1,\n",
       "       shuffle=True, solver='adam', tol=0.0001, validation_fraction=0.1,\n",
       "       verbose=False, warm_start=False)"
      ]
     },
     "execution_count": 177,
     "metadata": {},
     "output_type": "execute_result"
    }
   ],
   "source": [
    "#setup neural net with bigger hidden layer sizes using sklearn\n",
    "clf3 = MLPClassifier(solver='adam', alpha = 1e-5, hidden_layer_sizes=(1000, 500, 200, 100, 50, 20, 10, 5), random_state = 1)\n",
    "clf3.fit(X_train, y_train)"
   ]
  },
  {
   "cell_type": "code",
   "execution_count": 178,
   "metadata": {},
   "outputs": [
    {
     "name": "stdout",
     "output_type": "stream",
     "text": [
      "979865 20135\n"
     ]
    }
   ],
   "source": [
    "#predict labels of testing data using\n",
    "predictions = clf3.predict(X_test)\n",
    "actual = y_test\n",
    "comparison = predictions == actual #do the values match?\n",
    "\n",
    "correct = np.count_nonzero(comparison == True) #count of trues in comparison\n",
    "incorrect = np.count_nonzero(comparison == False) #count of falses\n",
    "print(correct, incorrect)"
   ]
  },
  {
   "cell_type": "code",
   "execution_count": 181,
   "metadata": {},
   "outputs": [
    {
     "data": {
      "text/plain": [
       "Text(0.5,1,'Instances of Correct/Incorrect in Prediction')"
      ]
     },
     "execution_count": 181,
     "metadata": {},
     "output_type": "execute_result"
    },
    {
     "data": {
      "image/png": "[encoded data removed]",
      "text/plain": [
       "<matplotlib.figure.Figure at 0x7fe8084adcf8>"
      ]
     },
     "metadata": {
      "needs_background": "light"
     },
     "output_type": "display_data"
    }
   ],
   "source": [
    "plt.bar(['correct', 'incorrect'], [correct, incorrect], align = 'center')\n",
    "plt.xlabel('Correct/Incorrect')\n",
    "plt.ylabel('Number of Instances')\n",
    "plt.title(\"Instances of Correct/Incorrect in Prediction\")"
   ]
  },
  {
   "cell_type": "markdown",
   "metadata": {},
   "source": [
    "### Keras Model 1: 2 layers (16, 10), 200 epochs "
   ]
  },
  {
   "cell_type": "code",
   "execution_count": 219,
   "metadata": {},
   "outputs": [
    {
     "name": "stdout",
     "output_type": "stream",
     "text": [
      "dict_keys(['loss', 'accuracy'])\n"
     ]
    },
    {
     "data": {
      "image/png": "[encoded data removed]",
      "text/plain": [
       "<matplotlib.figure.Figure at 0x7fe62d70ff60>"
      ]
     },
     "metadata": {
      "needs_background": "light"
     },
     "output_type": "display_data"
    },
    {
     "data": {
      "image/png": "[encoded data removed]",
      "text/plain": [
       "<matplotlib.figure.Figure at 0x7fe629dc05c0>"
      ]
     },
     "metadata": {
      "needs_background": "light"
     },
     "output_type": "display_data"
    }
   ],
   "source": [
    "model1 = Sequential()\n",
    "model1.add(Dense(16, input_dim = 10, activation='relu'))\n",
    "model1.add(Dense(10, activation='softmax'))\n",
    "\n",
    "model1.compile(loss='categorical_crossentropy', optimizer='adam', metrics=['accuracy'])\n",
    "\n",
    "Y_train = to_categorical(y_train)\n",
    "\n",
    "history = model1.fit(X_train, Y_train, epochs = 200, batch_size=32, verbose=0)\n",
    "\n",
    "print(history.history.keys())\n",
    "\n",
    "\n",
    "plt.plot(history.history['accuracy'])\n",
    "plt.title('model accuracy')\n",
    "plt.ylabel('accuracy')\n",
    "plt.xlabel('epoch')\n",
    "plt.show()\n",
    "\n",
    "plt.plot(history.history['loss'])\n",
    "plt.title('model loss')\n",
    "plt.ylabel('loss')\n",
    "plt.xlabel('epoch')\n",
    "plt.show()"
   ]
  },
  {
   "cell_type": "code",
   "execution_count": 236,
   "metadata": {},
   "outputs": [
    {
     "name": "stdout",
     "output_type": "stream",
     "text": [
      "Train: accuracy=0.537065 loss=0.950645\n",
      "Test: accuracy=0.537590 loss=0.952584\n"
     ]
    }
   ],
   "source": [
    "# Validating the accuracy and loss of our training set\n",
    "loss, accuracy = model1.evaluate(X_train, Y_train, verbose=0)\n",
    "print(\"Train: accuracy=%f loss=%f\" % (accuracy, loss))\n",
    "\n",
    "# Checking the success rate on our test set\n",
    "Y_test = to_categorical(y_test)\n",
    "\n",
    "loss, accuracy = model1.evaluate(X_test, Y_test, verbose=0)\n",
    "print(\"Test: accuracy=%f loss=%f\" % (accuracy, loss))"
   ]
  },
  {
   "cell_type": "markdown",
   "metadata": {},
   "source": [
    "### Keras Model 2: 3 layers (30, 30, 10), 200 epochs"
   ]
  },
  {
   "cell_type": "code",
   "execution_count": 225,
   "metadata": {},
   "outputs": [
    {
     "name": "stdout",
     "output_type": "stream",
     "text": [
      "dict_keys(['loss', 'accuracy'])\n"
     ]
    },
    {
     "data": {
      "image/png": "[encoded data removed]",
      "text/plain": [
       "<matplotlib.figure.Figure at 0x7fe63af07d68>"
      ]
     },
     "metadata": {
      "needs_background": "light"
     },
     "output_type": "display_data"
    },
    {
     "data": {
      "image/png": "[encoded data removed]",
      "text/plain": [
       "<matplotlib.figure.Figure at 0x7fe62c387390>"
      ]
     },
     "metadata": {
      "needs_background": "light"
     },
     "output_type": "display_data"
    }
   ],
   "source": [
    "model2 = Sequential()\n",
    "model2.add(Dense(30, input_dim = 10, activation='relu'))\n",
    "model2.add(Dense(30, activation='relu'))\n",
    "model2.add(Dense(10, activation='softmax'))\n",
    "\n",
    "model2.compile(loss='categorical_crossentropy', optimizer='adam', metrics=['accuracy'])\n",
    "\n",
    "Y_train = to_categorical(y_train)\n",
    "\n",
    "history = model2.fit(X_train, Y_train, epochs = 200, batch_size=32, verbose=0)\n",
    "\n",
    "print(history.history.keys())\n",
    "\n",
    "plt.plot(history.history['accuracy'])\n",
    "plt.title('model accuracy')\n",
    "plt.ylabel('accuracy')\n",
    "plt.xlabel('epoch')\n",
    "plt.show()\n",
    "\n",
    "plt.plot(history.history['loss'])\n",
    "plt.title('model loss')\n",
    "plt.ylabel('loss')\n",
    "plt.xlabel('epoch')\n",
    "plt.show()"
   ]
  },
  {
   "cell_type": "code",
   "execution_count": 235,
   "metadata": {},
   "outputs": [
    {
     "name": "stdout",
     "output_type": "stream",
     "text": [
      "Train: accuracy=0.835786 loss=0.438190\n",
      "Test: accuracy=0.827396 loss=0.464400\n"
     ]
    }
   ],
   "source": [
    "# Validating the accuracy and loss of our training set\n",
    "loss, accuracy = model2.evaluate(X_train, Y_train, verbose=0)\n",
    "print(\"Train: accuracy=%f loss=%f\" % (accuracy, loss))\n",
    "\n",
    "# Checking the success rate on our test set\n",
    "Y_test = to_categorical(y_test)\n",
    "\n",
    "loss, accuracy = model2.evaluate(X_test, Y_test, verbose=0)\n",
    "print(\"Test: accuracy=%f loss=%f\" % (accuracy, loss))"
   ]
  },
  {
   "cell_type": "markdown",
   "metadata": {},
   "source": [
    "### Keras Model 3: 4 layers (50, 50, 30, 10), 500 epochs"
   ]
  },
  {
   "cell_type": "code",
   "execution_count": 230,
   "metadata": {},
   "outputs": [
    {
     "name": "stdout",
     "output_type": "stream",
     "text": [
      "dict_keys(['loss', 'accuracy'])\n"
     ]
    },
    {
     "data": {
      "image/png": "[encoded data removed]",
      "text/plain": [
       "<matplotlib.figure.Figure at 0x7fe62e2010f0>"
      ]
     },
     "metadata": {
      "needs_background": "light"
     },
     "output_type": "display_data"
    },
    {
     "data": {
      "image/png": "[encoded data removed]",
      "text/plain": [
       "<matplotlib.figure.Figure at 0x7fe62cb08a58>"
      ]
     },
     "metadata": {
      "needs_background": "light"
     },
     "output_type": "display_data"
    }
   ],
   "source": [
    "model3 = Sequential()\n",
    "model3.add(Dense(50, input_dim = 10, activation='relu'))\n",
    "model3.add(Dense(50, activation='relu'))\n",
    "model3.add(Dense(30, activation='relu'))\n",
    "model3.add(Dense(10, activation='softmax'))\n",
    "\n",
    "model3.compile(loss='categorical_crossentropy', optimizer='adam', metrics=['accuracy'])\n",
    "\n",
    "Y_train = to_categorical(y_train)\n",
    "\n",
    "history = model3.fit(X_train, Y_train, epochs = 500, batch_size=32, verbose=0)\n",
    "\n",
    "print(history.history.keys())\n",
    "\n",
    "plt.plot(history.history['accuracy'])\n",
    "plt.title('model accuracy')\n",
    "plt.ylabel('accuracy')\n",
    "plt.xlabel('epoch')\n",
    "plt.show()\n",
    "\n",
    "plt.plot(history.history['loss'])\n",
    "plt.title('model loss')\n",
    "plt.ylabel('loss')\n",
    "plt.xlabel('epoch')\n",
    "plt.show()"
   ]
  },
  {
   "cell_type": "code",
   "execution_count": 251,
   "metadata": {},
   "outputs": [
    {
     "name": "stdout",
     "output_type": "stream",
     "text": [
      "Train: accuracy=0.996921 loss=0.013497\n",
      "Test: accuracy=0.993422 loss=0.058205\n"
     ]
    }
   ],
   "source": [
    "# Validating the accuracy and loss of our training set\n",
    "loss, accuracy = model3.evaluate(X_train, Y_train, verbose=0)\n",
    "print(\"Train: accuracy=%f loss=%f\" % (accuracy, loss))\n",
    "\n",
    "# Checking the success rate on our test set\n",
    "Y_test = to_categorical(y_test)\n",
    "\n",
    "loss, accuracy = model3.evaluate(X_test, Y_test, verbose=0)\n",
    "print(\"Test: accuracy=%f loss=%f\" % (accuracy, loss))"
   ]
  },
  {
   "cell_type": "markdown",
   "metadata": {},
   "source": [
    "### Try Model on Random Hands"
   ]
  },
  {
   "cell_type": "code",
   "execution_count": 587,
   "metadata": {},
   "outputs": [
    {
     "name": "stdout",
     "output_type": "stream",
     "text": [
      "p1 Hand: [[3 7 4 5 1 5 3 2 1 6]]\n",
      "p2 Hand: [[1 1 2 7 1 5 3 2 1 6]]\n",
      "p1 hand value: [1], p2 hand value: [0]\n",
      "Player 1 better after flop\n"
     ]
    }
   ],
   "source": [
    "#function to generate a list of cards\n",
    "def generate_card_list(num_cards):\n",
    "    num_cards *= 2\n",
    "    generate_hand = []\n",
    "    for i in range(num_cards):\n",
    "        if i % 2 == 0: #even indices add suit\n",
    "            suit = np.random.randint(1, 5)\n",
    "            generate_hand.append(suit)\n",
    "        else: #odd indices add rank\n",
    "            rank = np.random.randint(1, 14)\n",
    "            generate_hand.append(rank)\n",
    "    return generate_hand\n",
    "    \n",
    "\n",
    "#generate 3 cards for the flop\n",
    "flop = generate_card_list(3)\n",
    "        \n",
    "p1_cards = generate_card_list(2) #generate 2 cards for player 1\n",
    "p1_hand = p1_cards + flop #combine with flop\n",
    "p1_hand = np.array([p1_hand]) #reformat hand data\n",
    "\n",
    "p2_cards = generate_card_list(2) #generate 2 cards for player 2\n",
    "p2_hand = p2_cards + flop #combine with flop\n",
    "p2_hand = np.array([p2_hand]) #reformat hand data\n",
    "\n",
    "p1_class = model3.predict(p1_hand) #classify p1 hand\n",
    "p1_class_rounded = p1_class.round() #manipulate data\n",
    "i, j = np.where(p1_class_rounded == 1) #set j to classification\n",
    "\n",
    "p2_class = model3.predict(p2_hand) #clasify p2 hand\n",
    "p2_class_rounded = p2_class.round() #manipulate data\n",
    "x, y = np.where(p2_class_rounded == 1) #set y to classification\n",
    "\n",
    "print(f\"p1 Hand: {p1_hand}\")\n",
    "print(f\"p2 Hand: {p2_hand}\")\n",
    "\n",
    "print(f\"p1 hand value: {j}, p2 hand value: {y}\")\n",
    "if j > y:\n",
    "    print(\"Player 1 better after flop\")\n",
    "elif j < y:\n",
    "    print(\"Player 2 better after flop\")\n",
    "else:\n",
    "    print(\"Evenly matched after flop\")"
   ]
  }
 ],
 "metadata": {
  "kernelspec": {
   "display_name": "Python 3",
   "language": "python",
   "name": "python3"
  },
  "language_info": {
   "codemirror_mode": {
    "name": "ipython",
    "version": 3
   },
   "file_extension": ".py",
   "mimetype": "text/x-python",
   "name": "python",
   "nbconvert_exporter": "python",
   "pygments_lexer": "ipython3",
   "version": "3.6.3"
  }
 },
 "nbformat": 4,
 "nbformat_minor": 2
}
