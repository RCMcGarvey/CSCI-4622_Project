{
 "cells": [
  {
   "cell_type": "code",
   "execution_count": 65,
   "metadata": {},
   "outputs": [],
   "source": [
    "import pandas as pd\n",
    "\n",
    "import numpy as np\n",
    "np.random.seed(0)\n",
    "import random\n",
    "\n",
    "from sklearn.neural_network import MLPClassifier\n",
    "from sklearn.model_selection import StratifiedKFold\n",
    "from sklearn.model_selection import cross_val_score\n",
    "from sklearn.model_selection import GridSearchCV\n",
    "\n",
    "from keras.utils import to_categorical\n",
    "from keras.models import Sequential\n",
    "from keras.layers import Dense\n",
    "from keras.wrappers.scikit_learn import KerasClassifier\n",
    "\n",
    "import matplotlib.pyplot as plt\n",
    "from matplotlib import rcParams\n",
    "rcParams['figure.figsize'] = 10,7\n",
    "%matplotlib inline"
   ]
  },
  {
   "cell_type": "code",
   "execution_count": 27,
   "metadata": {},
   "outputs": [],
   "source": [
    "#label columns\n",
    "features = ['S1', 'C1', 'S2', 'C2', 'S3', 'C3', 'S4', 'C4', 'S5', 'C5', 'CLASS']\n",
    "\n",
    "#import testing data\n",
    "training_data = pd.read_csv('../test_train_data/poker-hand-training-true.data', names=features)"
   ]
  },
  {
   "cell_type": "code",
   "execution_count": 28,
   "metadata": {},
   "outputs": [
    {
     "data": {
      "text/html": [
       "<div>\n",
       "<style scoped>\n",
       "    .dataframe tbody tr th:only-of-type {\n",
       "        vertical-align: middle;\n",
       "    }\n",
       "\n",
       "    .dataframe tbody tr th {\n",
       "        vertical-align: top;\n",
       "    }\n",
       "\n",
       "    .dataframe thead th {\n",
       "        text-align: right;\n",
       "    }\n",
       "</style>\n",
       "<table border=\"1\" class=\"dataframe\">\n",
       "  <thead>\n",
       "    <tr style=\"text-align: right;\">\n",
       "      <th></th>\n",
       "      <th>S1</th>\n",
       "      <th>C1</th>\n",
       "      <th>S2</th>\n",
       "      <th>C2</th>\n",
       "      <th>S3</th>\n",
       "      <th>C3</th>\n",
       "      <th>S4</th>\n",
       "      <th>C4</th>\n",
       "      <th>S5</th>\n",
       "      <th>C5</th>\n",
       "      <th>CLASS</th>\n",
       "    </tr>\n",
       "  </thead>\n",
       "  <tbody>\n",
       "    <tr>\n",
       "      <th>0</th>\n",
       "      <td>1</td>\n",
       "      <td>10</td>\n",
       "      <td>1</td>\n",
       "      <td>11</td>\n",
       "      <td>1</td>\n",
       "      <td>13</td>\n",
       "      <td>1</td>\n",
       "      <td>12</td>\n",
       "      <td>1</td>\n",
       "      <td>1</td>\n",
       "      <td>9</td>\n",
       "    </tr>\n",
       "    <tr>\n",
       "      <th>1</th>\n",
       "      <td>2</td>\n",
       "      <td>11</td>\n",
       "      <td>2</td>\n",
       "      <td>13</td>\n",
       "      <td>2</td>\n",
       "      <td>10</td>\n",
       "      <td>2</td>\n",
       "      <td>12</td>\n",
       "      <td>2</td>\n",
       "      <td>1</td>\n",
       "      <td>9</td>\n",
       "    </tr>\n",
       "    <tr>\n",
       "      <th>2</th>\n",
       "      <td>3</td>\n",
       "      <td>12</td>\n",
       "      <td>3</td>\n",
       "      <td>11</td>\n",
       "      <td>3</td>\n",
       "      <td>13</td>\n",
       "      <td>3</td>\n",
       "      <td>10</td>\n",
       "      <td>3</td>\n",
       "      <td>1</td>\n",
       "      <td>9</td>\n",
       "    </tr>\n",
       "    <tr>\n",
       "      <th>3</th>\n",
       "      <td>4</td>\n",
       "      <td>10</td>\n",
       "      <td>4</td>\n",
       "      <td>11</td>\n",
       "      <td>4</td>\n",
       "      <td>1</td>\n",
       "      <td>4</td>\n",
       "      <td>13</td>\n",
       "      <td>4</td>\n",
       "      <td>12</td>\n",
       "      <td>9</td>\n",
       "    </tr>\n",
       "    <tr>\n",
       "      <th>4</th>\n",
       "      <td>4</td>\n",
       "      <td>1</td>\n",
       "      <td>4</td>\n",
       "      <td>13</td>\n",
       "      <td>4</td>\n",
       "      <td>12</td>\n",
       "      <td>4</td>\n",
       "      <td>11</td>\n",
       "      <td>4</td>\n",
       "      <td>10</td>\n",
       "      <td>9</td>\n",
       "    </tr>\n",
       "    <tr>\n",
       "      <th>5</th>\n",
       "      <td>1</td>\n",
       "      <td>2</td>\n",
       "      <td>1</td>\n",
       "      <td>4</td>\n",
       "      <td>1</td>\n",
       "      <td>5</td>\n",
       "      <td>1</td>\n",
       "      <td>3</td>\n",
       "      <td>1</td>\n",
       "      <td>6</td>\n",
       "      <td>8</td>\n",
       "    </tr>\n",
       "    <tr>\n",
       "      <th>6</th>\n",
       "      <td>1</td>\n",
       "      <td>9</td>\n",
       "      <td>1</td>\n",
       "      <td>12</td>\n",
       "      <td>1</td>\n",
       "      <td>10</td>\n",
       "      <td>1</td>\n",
       "      <td>11</td>\n",
       "      <td>1</td>\n",
       "      <td>13</td>\n",
       "      <td>8</td>\n",
       "    </tr>\n",
       "    <tr>\n",
       "      <th>7</th>\n",
       "      <td>2</td>\n",
       "      <td>1</td>\n",
       "      <td>2</td>\n",
       "      <td>2</td>\n",
       "      <td>2</td>\n",
       "      <td>3</td>\n",
       "      <td>2</td>\n",
       "      <td>4</td>\n",
       "      <td>2</td>\n",
       "      <td>5</td>\n",
       "      <td>8</td>\n",
       "    </tr>\n",
       "    <tr>\n",
       "      <th>8</th>\n",
       "      <td>3</td>\n",
       "      <td>5</td>\n",
       "      <td>3</td>\n",
       "      <td>6</td>\n",
       "      <td>3</td>\n",
       "      <td>9</td>\n",
       "      <td>3</td>\n",
       "      <td>7</td>\n",
       "      <td>3</td>\n",
       "      <td>8</td>\n",
       "      <td>8</td>\n",
       "    </tr>\n",
       "    <tr>\n",
       "      <th>9</th>\n",
       "      <td>4</td>\n",
       "      <td>1</td>\n",
       "      <td>4</td>\n",
       "      <td>4</td>\n",
       "      <td>4</td>\n",
       "      <td>2</td>\n",
       "      <td>4</td>\n",
       "      <td>3</td>\n",
       "      <td>4</td>\n",
       "      <td>5</td>\n",
       "      <td>8</td>\n",
       "    </tr>\n",
       "  </tbody>\n",
       "</table>\n",
       "</div>"
      ],
      "text/plain": [
       "   S1  C1  S2  C2  S3  C3  S4  C4  S5  C5  CLASS\n",
       "0   1  10   1  11   1  13   1  12   1   1      9\n",
       "1   2  11   2  13   2  10   2  12   2   1      9\n",
       "2   3  12   3  11   3  13   3  10   3   1      9\n",
       "3   4  10   4  11   4   1   4  13   4  12      9\n",
       "4   4   1   4  13   4  12   4  11   4  10      9\n",
       "5   1   2   1   4   1   5   1   3   1   6      8\n",
       "6   1   9   1  12   1  10   1  11   1  13      8\n",
       "7   2   1   2   2   2   3   2   4   2   5      8\n",
       "8   3   5   3   6   3   9   3   7   3   8      8\n",
       "9   4   1   4   4   4   2   4   3   4   5      8"
      ]
     },
     "execution_count": 28,
     "metadata": {},
     "output_type": "execute_result"
    }
   ],
   "source": [
    "training_data.head(10)"
   ]
  },
  {
   "cell_type": "code",
   "execution_count": 29,
   "metadata": {},
   "outputs": [
    {
     "name": "stdout",
     "output_type": "stream",
     "text": [
      "Number of Rows: 25010\n",
      "Number of Columns: 11\n",
      "Number of Data Points: 275110\n",
      "Dimensions: (25010, 11)\n"
     ]
    }
   ],
   "source": [
    "#Information about the training data:\n",
    "print(f\"Number of Rows: {len(training_data.index)}\")\n",
    "print(f\"Number of Columns: {len(training_data.columns)}\")\n",
    "print(f\"Number of Data Points: {training_data.size}\")\n",
    "print(f\"Dimensions: {training_data.shape}\")"
   ]
  },
  {
   "cell_type": "code",
   "execution_count": 30,
   "metadata": {},
   "outputs": [
    {
     "name": "stdout",
     "output_type": "stream",
     "text": [
      "{0: 12493, 1: 10599, 2: 1206, 3: 513, 4: 93, 5: 54, 6: 36, 7: 6, 8: 5, 9: 5}\n"
     ]
    }
   ],
   "source": [
    "#Class Information\n",
    "num_classes = 10\n",
    "classes = {}\n",
    "\n",
    "#get how many rows result in each class\n",
    "for i in range(num_classes):\n",
    "    classes[i] = len(training_data[training_data.CLASS == i])\n",
    "print(classes)"
   ]
  },
  {
   "cell_type": "code",
   "execution_count": 31,
   "metadata": {},
   "outputs": [],
   "source": [
    "hand_ids = list(range(10))\n",
    "hand_name = {\n",
    "    0: 'Nothing in Hand',\n",
    "    1: 'One Pair',\n",
    "    2: 'Two Pairs',\n",
    "    3: 'Three of A Kind',\n",
    "    4: 'Straight',\n",
    "    5: 'Flush',\n",
    "    6: 'Full House',\n",
    "    7: 'Four of a Kind',\n",
    "    8: 'Straight Flush',\n",
    "    9: 'Royal Flush'\n",
    "}"
   ]
  },
  {
   "cell_type": "code",
   "execution_count": 33,
   "metadata": {},
   "outputs": [
    {
     "name": "stdout",
     "output_type": "stream",
     "text": [
      "(0) Nothing in Hand: 12493\n",
      "(1) One Pair: 10599\n",
      "(2) Two Pairs: 1206\n",
      "(3) Three of A Kind: 513\n",
      "(4) Straight: 93\n",
      "(5) Flush: 54\n",
      "(6) Full House: 36\n",
      "(7) Four of a Kind: 6\n",
      "(8) Straight Flush: 5\n",
      "(9) Royal Flush: 5\n"
     ]
    }
   ],
   "source": [
    "for i in range(10):\n",
    "    print(f\"({hand_ids[i]}) {hand_name[i]}: {classes[i]}\")"
   ]
  },
  {
   "cell_type": "code",
   "execution_count": 41,
   "metadata": {},
   "outputs": [
    {
     "data": {
      "text/plain": [
       "Text(0.5, 1.0, 'Instances of Poker Hands in Training Data')"
      ]
     },
     "execution_count": 41,
     "metadata": {},
     "output_type": "execute_result"
    },
    {
     "data": {
      "image/png": "[encoded data removed]",
      "text/plain": [
       "<Figure size 432x288 with 1 Axes>"
      ]
     },
     "metadata": {
      "needs_background": "light"
     },
     "output_type": "display_data"
    }
   ],
   "source": [
    "plt.bar(hand_name.keys(), [classes[i] for i in hand_ids], align = 'center')\n",
    "plt.xlabel('Poker Hand ID')\n",
    "plt.ylabel('Number of Instances')\n",
    "plt.title(\"Instances of Poker Hands in Training Data\")"
   ]
  },
  {
   "cell_type": "code",
   "execution_count": 43,
   "metadata": {},
   "outputs": [],
   "source": [
    "X_train = training_data.iloc[:, 0: 10].values #first 10 columns\n",
    "y_train = training_data.iloc[:, 10].values #last column (classification/poker hand type)"
   ]
  },
  {
   "cell_type": "code",
   "execution_count": 45,
   "metadata": {},
   "outputs": [],
   "source": [
    "#import testing data\n",
    "testing_data = pd.read_csv('../test_train_data/poker-hand-testing.data', names=features)\n",
    "X_test = testing_data.iloc[:, 0: 10].values #first 10 columns\n",
    "y_test = testing_data.iloc[:, 10].values #last column (classification/poker hand type)  "
   ]
  },
  {
   "cell_type": "markdown",
   "metadata": {},
   "source": [
    "### MLP 1: 2 layers (5, 2)"
   ]
  },
  {
   "cell_type": "code",
   "execution_count": 46,
   "metadata": {},
   "outputs": [
    {
     "name": "stderr",
     "output_type": "stream",
     "text": [
      "C:\\Users\\God\\anaconda3\\lib\\site-packages\\sklearn\\neural_network\\_multilayer_perceptron.py:582: ConvergenceWarning: Stochastic Optimizer: Maximum iterations (200) reached and the optimization hasn't converged yet.\n",
      "  warnings.warn(\n"
     ]
    },
    {
     "data": {
      "text/plain": [
       "MLPClassifier(alpha=1e-05, hidden_layer_sizes=(5, 2), random_state=1)"
      ]
     },
     "execution_count": 46,
     "metadata": {},
     "output_type": "execute_result"
    }
   ],
   "source": [
    "#setup neural net using sklearn\n",
    "clf1 = MLPClassifier(solver='adam', alpha = 1e-5, hidden_layer_sizes=(5, 2), random_state = 1)\n",
    "clf1.fit(X_train, y_train)"
   ]
  },
  {
   "cell_type": "code",
   "execution_count": 49,
   "metadata": {},
   "outputs": [
    {
     "name": "stdout",
     "output_type": "stream",
     "text": [
      "540542 459458\n"
     ]
    }
   ],
   "source": [
    "#predict labels of testing data using\n",
    "\n",
    "predictions = clf1.predict(X_test)\n",
    "actual = y_test\n",
    "comparison = predictions == actual #do the values match?\n",
    "\n",
    "correct = np.count_nonzero(comparison == True) #count of trues in comparison\n",
    "incorrect = np.count_nonzero(comparison == False) #cound of falses\n",
    "print(correct, incorrect)"
   ]
  },
  {
   "cell_type": "code",
   "execution_count": 50,
   "metadata": {},
   "outputs": [
    {
     "data": {
      "text/plain": [
       "Text(0.5, 1.0, 'Instances of Correct/Incorrect in Prediction')"
      ]
     },
     "execution_count": 50,
     "metadata": {},
     "output_type": "execute_result"
    },
    {
     "data": {
      "image/png": "[encoded data removed]",
      "text/plain": [
       "<Figure size 432x288 with 1 Axes>"
      ]
     },
     "metadata": {
      "needs_background": "light"
     },
     "output_type": "display_data"
    }
   ],
   "source": [
    "plt.bar(['correct', 'incorrect'], [correct, incorrect], align = 'center')\n",
    "plt.xlabel('Correct/Incorrect')\n",
    "plt.ylabel('Number of Instances')\n",
    "plt.title(\"Instances of Correct/Incorrect in Prediction\")"
   ]
  },
  {
   "cell_type": "markdown",
   "metadata": {},
   "source": [
    "### MLP 2: 5 layers (100, 50, 20, 10, 5)"
   ]
  },
  {
   "cell_type": "code",
   "execution_count": 51,
   "metadata": {},
   "outputs": [
    {
     "data": {
      "text/plain": [
       "MLPClassifier(alpha=1e-05, hidden_layer_sizes=(100, 50, 20, 10, 5),\n",
       "              random_state=1)"
      ]
     },
     "execution_count": 51,
     "metadata": {},
     "output_type": "execute_result"
    }
   ],
   "source": [
    "#setup neural net with bigger hidden layer sizes using sklearn\n",
    "clf2 = MLPClassifier(solver='adam', alpha = 1e-5, hidden_layer_sizes=(100, 50, 20, 10, 5), random_state = 1)\n",
    "clf2.fit(X_train, y_train)"
   ]
  },
  {
   "cell_type": "code",
   "execution_count": 52,
   "metadata": {},
   "outputs": [
    {
     "name": "stdout",
     "output_type": "stream",
     "text": [
      "941682 58318\n"
     ]
    }
   ],
   "source": [
    "#predict labels of testing data using\n",
    "predictions = clf2.predict(X_test)\n",
    "actual = y_test\n",
    "comparison = predictions == actual #do the values match?\n",
    "\n",
    "correct = np.count_nonzero(comparison == True) #count of trues in comparison\n",
    "incorrect = np.count_nonzero(comparison == False) #count of falses\n",
    "print(correct, incorrect)"
   ]
  },
  {
   "cell_type": "code",
   "execution_count": 53,
   "metadata": {},
   "outputs": [
    {
     "data": {
      "text/plain": [
       "Text(0.5, 1.0, 'Instances of Correct/Incorrect in Prediction')"
      ]
     },
     "execution_count": 53,
     "metadata": {},
     "output_type": "execute_result"
    },
    {
     "data": {
      "image/png": "[encoded data removed]",
      "text/plain": [
       "<Figure size 432x288 with 1 Axes>"
      ]
     },
     "metadata": {
      "needs_background": "light"
     },
     "output_type": "display_data"
    }
   ],
   "source": [
    "plt.bar(['correct', 'incorrect'], [correct, incorrect], align = 'center')\n",
    "plt.xlabel('Correct/Incorrect')\n",
    "plt.ylabel('Number of Instances')\n",
    "plt.title(\"Instances of Correct/Incorrect in Prediction\")"
   ]
  },
  {
   "cell_type": "markdown",
   "metadata": {},
   "source": [
    "### MLP 3: 8 layers (1000, 500, 200, 100, 50, 20, 10, 5)"
   ]
  },
  {
   "cell_type": "code",
   "execution_count": 54,
   "metadata": {},
   "outputs": [
    {
     "data": {
      "text/plain": [
       "MLPClassifier(alpha=1e-05,\n",
       "              hidden_layer_sizes=(1000, 500, 200, 100, 50, 20, 10, 5),\n",
       "              random_state=1)"
      ]
     },
     "execution_count": 54,
     "metadata": {},
     "output_type": "execute_result"
    }
   ],
   "source": [
    "#setup neural net with bigger hidden layer sizes using sklearn\n",
    "clf3 = MLPClassifier(solver='adam', alpha = 1e-5, hidden_layer_sizes=(1000, 500, 200, 100, 50, 20, 10, 5), random_state = 1)\n",
    "clf3.fit(X_train, y_train)"
   ]
  },
  {
   "cell_type": "code",
   "execution_count": 55,
   "metadata": {},
   "outputs": [
    {
     "name": "stdout",
     "output_type": "stream",
     "text": [
      "971912 28088\n"
     ]
    }
   ],
   "source": [
    "#predict labels of testing data using\n",
    "predictions = clf3.predict(X_test)\n",
    "actual = y_test\n",
    "comparison = predictions == actual #do the values match?\n",
    "\n",
    "correct = np.count_nonzero(comparison == True) #count of trues in comparison\n",
    "incorrect = np.count_nonzero(comparison == False) #count of falses\n",
    "print(correct, incorrect)"
   ]
  },
  {
   "cell_type": "code",
   "execution_count": 56,
   "metadata": {},
   "outputs": [
    {
     "data": {
      "text/plain": [
       "Text(0.5, 1.0, 'Instances of Correct/Incorrect in Prediction')"
      ]
     },
     "execution_count": 56,
     "metadata": {},
     "output_type": "execute_result"
    },
    {
     "data": {
      "image/png": "[encoded data removed]",
      "text/plain": [
       "<Figure size 432x288 with 1 Axes>"
      ]
     },
     "metadata": {
      "needs_background": "light"
     },
     "output_type": "display_data"
    }
   ],
   "source": [
    "plt.bar(['correct', 'incorrect'], [correct, incorrect], align = 'center')\n",
    "plt.xlabel('Correct/Incorrect')\n",
    "plt.ylabel('Number of Instances')\n",
    "plt.title(\"Instances of Correct/Incorrect in Prediction\")"
   ]
  },
  {
   "cell_type": "markdown",
   "metadata": {},
   "source": [
    "### Keras Model 1: 2 layers (16, 10), 200 epochs "
   ]
  },
  {
   "cell_type": "code",
   "execution_count": 61,
   "metadata": {},
   "outputs": [
    {
     "name": "stdout",
     "output_type": "stream",
     "text": [
      "dict_keys(['loss', 'accuracy'])\n"
     ]
    },
    {
     "data": {
      "image/png": "[encoded data removed]",
      "text/plain": [
       "<Figure size 432x288 with 1 Axes>"
      ]
     },
     "metadata": {
      "needs_background": "light"
     },
     "output_type": "display_data"
    },
    {
     "data": {
      "image/png": "[encoded data removed]",
      "text/plain": [
       "<Figure size 432x288 with 1 Axes>"
      ]
     },
     "metadata": {
      "needs_background": "light"
     },
     "output_type": "display_data"
    }
   ],
   "source": [
    "model1 = Sequential()\n",
    "model1.add(Dense(16, input_dim = 10, activation='relu'))\n",
    "model1.add(Dense(10, activation='softmax'))\n",
    "\n",
    "model1.compile(loss='categorical_crossentropy', optimizer='adam', metrics=['accuracy'])\n",
    "\n",
    "Y_train = to_categorical(y_train)\n",
    "\n",
    "history = model1.fit(X_train, Y_train, epochs = 200, batch_size=32, verbose=0)\n",
    "\n",
    "print(history.history.keys())\n",
    "\n",
    "\n",
    "plt.plot(history.history['accuracy'])\n",
    "plt.title('model accuracy')\n",
    "plt.ylabel('accuracy')\n",
    "plt.xlabel('epoch')\n",
    "plt.show()\n",
    "\n",
    "plt.plot(history.history['loss'])\n",
    "plt.title('model loss')\n",
    "plt.ylabel('loss')\n",
    "plt.xlabel('epoch')\n",
    "plt.show()"
   ]
  },
  {
   "cell_type": "code",
   "execution_count": 62,
   "metadata": {},
   "outputs": [
    {
     "name": "stdout",
     "output_type": "stream",
     "text": [
      "Train: accuracy=0.582407 loss=0.902071\n",
      "Test: accuracy=0.573973 loss=0.917818\n"
     ]
    }
   ],
   "source": [
    "# Validating the accuracy and loss of our training set\n",
    "loss, accuracy = model1.evaluate(X_train, Y_train, verbose=0)\n",
    "print(\"Train: accuracy=%f loss=%f\" % (accuracy, loss))\n",
    "\n",
    "# Checking the success rate on our test set\n",
    "Y_test = to_categorical(y_test)\n",
    "\n",
    "loss, accuracy = model1.evaluate(X_test, Y_test, verbose=0)\n",
    "print(\"Test: accuracy=%f loss=%f\" % (accuracy, loss))"
   ]
  },
  {
   "cell_type": "markdown",
   "metadata": {},
   "source": [
    "### Keras Model 2: 3 layers (30, 30, 10), 200 epochs"
   ]
  },
  {
   "cell_type": "code",
   "execution_count": 63,
   "metadata": {},
   "outputs": [
    {
     "name": "stdout",
     "output_type": "stream",
     "text": [
      "dict_keys(['loss', 'accuracy'])\n"
     ]
    },
    {
     "data": {
      "image/png": "[encoded data removed]",
      "text/plain": [
       "<Figure size 432x288 with 1 Axes>"
      ]
     },
     "metadata": {
      "needs_background": "light"
     },
     "output_type": "display_data"
    },
    {
     "data": {
      "image/png": "[encoded data removed]",
      "text/plain": [
       "<Figure size 432x288 with 1 Axes>"
      ]
     },
     "metadata": {
      "needs_background": "light"
     },
     "output_type": "display_data"
    }
   ],
   "source": [
    "model2 = Sequential()\n",
    "model2.add(Dense(30, input_dim = 10, activation='relu'))\n",
    "model2.add(Dense(30, activation='relu'))\n",
    "model2.add(Dense(10, activation='softmax'))\n",
    "\n",
    "model2.compile(loss='categorical_crossentropy', optimizer='adam', metrics=['accuracy'])\n",
    "\n",
    "Y_train = to_categorical(y_train)\n",
    "\n",
    "history = model2.fit(X_train, Y_train, epochs = 200, batch_size=32, verbose=0)\n",
    "\n",
    "print(history.history.keys())\n",
    "\n",
    "plt.plot(history.history['accuracy'])\n",
    "plt.title('model accuracy')\n",
    "plt.ylabel('accuracy')\n",
    "plt.xlabel('epoch')\n",
    "plt.show()\n",
    "\n",
    "plt.plot(history.history['loss'])\n",
    "plt.title('model loss')\n",
    "plt.ylabel('loss')\n",
    "plt.xlabel('epoch')\n",
    "plt.show()"
   ]
  },
  {
   "cell_type": "code",
   "execution_count": 64,
   "metadata": {},
   "outputs": [
    {
     "name": "stdout",
     "output_type": "stream",
     "text": [
      "Train: accuracy=0.967253 loss=0.124031\n",
      "Test: accuracy=0.961672 loss=0.150418\n"
     ]
    }
   ],
   "source": [
    "# Validating the accuracy and loss of our training set\n",
    "loss, accuracy = model2.evaluate(X_train, Y_train, verbose=0)\n",
    "print(\"Train: accuracy=%f loss=%f\" % (accuracy, loss))\n",
    "\n",
    "# Checking the success rate on our test set\n",
    "Y_test = to_categorical(y_test)\n",
    "\n",
    "loss, accuracy = model2.evaluate(X_test, Y_test, verbose=0)\n",
    "print(\"Test: accuracy=%f loss=%f\" % (accuracy, loss))"
   ]
  },
  {
   "cell_type": "markdown",
   "metadata": {},
   "source": [
    "### Keras Model 3: 4 layers (50, 50, 30, 10), 500 epochs"
   ]
  },
  {
   "cell_type": "code",
   "execution_count": 66,
   "metadata": {},
   "outputs": [
    {
     "name": "stdout",
     "output_type": "stream",
     "text": [
      "dict_keys(['loss', 'accuracy'])\n"
     ]
    },
    {
     "data": {
      "image/png": "[encoded data removed]",
      "text/plain": [
       "<Figure size 432x288 with 1 Axes>"
      ]
     },
     "metadata": {
      "needs_background": "light"
     },
     "output_type": "display_data"
    },
    {
     "data": {
      "image/png": "[encoded data removed]",
      "text/plain": [
       "<Figure size 432x288 with 1 Axes>"
      ]
     },
     "metadata": {
      "needs_background": "light"
     },
     "output_type": "display_data"
    }
   ],
   "source": [
    "model3 = Sequential()\n",
    "model3.add(Dense(50, input_dim = 10, activation='relu'))\n",
    "model3.add(Dense(50, activation='relu'))\n",
    "model3.add(Dense(30, activation='relu'))\n",
    "model3.add(Dense(10, activation='softmax'))\n",
    "\n",
    "model3.compile(loss='categorical_crossentropy', optimizer='adam', metrics=['accuracy'])\n",
    "\n",
    "Y_train = to_categorical(y_train)\n",
    "\n",
    "history = model3.fit(X_train, Y_train, epochs = 500, batch_size=32, verbose=0)\n",
    "\n",
    "print(history.history.keys())\n",
    "\n",
    "plt.plot(history.history['accuracy'])\n",
    "plt.title('model accuracy')\n",
    "plt.ylabel('accuracy')\n",
    "plt.xlabel('epoch')\n",
    "plt.show()\n",
    "\n",
    "plt.plot(history.history['loss'])\n",
    "plt.title('model loss')\n",
    "plt.ylabel('loss')\n",
    "plt.xlabel('epoch')\n",
    "plt.show()"
   ]
  },
  {
   "cell_type": "code",
   "execution_count": 67,
   "metadata": {},
   "outputs": [
    {
     "name": "stdout",
     "output_type": "stream",
     "text": [
      "Train: accuracy=0.998601 loss=0.005026\n",
      "Test: accuracy=0.994545 loss=0.072429\n"
     ]
    }
   ],
   "source": [
    "# Validating the accuracy and loss of our training set\n",
    "loss, accuracy = model3.evaluate(X_train, Y_train, verbose=0)\n",
    "print(\"Train: accuracy=%f loss=%f\" % (accuracy, loss))\n",
    "\n",
    "# Checking the success rate on our test set\n",
    "Y_test = to_categorical(y_test)\n",
    "\n",
    "loss, accuracy = model3.evaluate(X_test, Y_test, verbose=0)\n",
    "print(\"Test: accuracy=%f loss=%f\" % (accuracy, loss))"
   ]
  },
  {
   "cell_type": "markdown",
   "metadata": {},
   "source": [
    "### Try Model on Random Hands"
   ]
  },
  {
   "cell_type": "code",
   "execution_count": 68,
   "metadata": {},
   "outputs": [
    {
     "name": "stdout",
     "output_type": "stream",
     "text": [
      "p1 Hand: [[ 1 13  3 13  1  2  2  2  4  2]]\n",
      "p2 Hand: [[3 5 4 7 1 6 1 4 4 4]]\n",
      "p1 hand value: [6], p2 hand value: [1]\n",
      "Player 1 better after flop\n"
     ]
    }
   ],
   "source": [
    "#function to generate a list of cards\n",
    "def generate_card_list(num_cards):\n",
    "    num_cards *= 2\n",
    "    generate_hand = []\n",
    "    for i in range(num_cards):\n",
    "        if i % 2 == 0: #even indices add suit\n",
    "            suit = np.random.randint(1, 5)\n",
    "            generate_hand.append(suit)\n",
    "        else: #odd indices add rank\n",
    "            rank = np.random.randint(1, 14)\n",
    "            generate_hand.append(rank)\n",
    "    return generate_hand\n",
    "    \n",
    "\n",
    "#generate 3 cards for the flop\n",
    "flop = generate_card_list(3)\n",
    "        \n",
    "p1_cards = generate_card_list(2) #generate 2 cards for player 1\n",
    "p1_hand = p1_cards + flop #combine with flop\n",
    "p1_hand = [1, 13, 3, 13, 1, 2, 2, 2, 4, 2]\n",
    "p1_hand = np.array([p1_hand]) #reformat hand data\n",
    "\n",
    "p2_cards = generate_card_list(2) #generate 2 cards for player 2\n",
    "p2_hand = p2_cards + flop #combine with flop\n",
    "p2_hand = np.array([p2_hand]) #reformat hand data\n",
    "\n",
    "p1_class = model3.predict(p1_hand) #classify p1 hand\n",
    "p1_class_rounded = p1_class.round() #manipulate data\n",
    "i, j = np.where(p1_class_rounded == 1) #set j to classification\n",
    "\n",
    "p2_class = model3.predict(p2_hand) #clasify p2 hand\n",
    "p2_class_rounded = p2_class.round() #manipulate data\n",
    "x, y = np.where(p2_class_rounded == 1) #set y to classification\n",
    "\n",
    "print(f\"p1 Hand: {p1_hand}\")\n",
    "print(f\"p2 Hand: {p2_hand}\")\n",
    "\n",
    "print(f\"p1 hand value: {j}, p2 hand value: {y}\")\n",
    "if j > y:\n",
    "    print(\"Player 1 better after flop\")\n",
    "elif j < y:\n",
    "    print(\"Player 2 better after flop\")\n",
    "else:\n",
    "    print(\"Evenly matched after flop\")"
   ]
  },
  {
   "cell_type": "code",
   "execution_count": 7,
   "metadata": {},
   "outputs": [],
   "source": [
    "deck = [[1,1],[1,2],[1,3],[1,4],[1,5],[1,6],[1,7],[1,8],[1,9],[1,10],[1,11],[1,12],[1,13],\n",
    "        [2,1],[2,2],[2,3],[2,4],[2,5],[2,6],[2,7],[2,8],[2,9],[2,10],[2,11],[2,12],[2,13],\n",
    "        [3,1],[3,2],[3,3],[3,4],[3,5],[3,6],[3,7],[3,8],[3,9],[3,10],[3,11],[3,12],[3,13],\n",
    "        [4,1],[4,2],[4,3],[4,4],[4,5],[4,6],[4,7],[4,8],[4,9],[4,10],[4,11],[4,12],[4,13]]"
   ]
  },
  {
   "cell_type": "code",
   "execution_count": 13,
   "metadata": {},
   "outputs": [],
   "source": [
    "class Poker_Game:\n",
    "    \n",
    "    def  __init__(self, gdeck):\n",
    "        random.shuffle(gdeck)\n",
    "        self.deck = gdeck\n",
    "        self.p1_hand = [] #the agent\n",
    "        self.p2_hand = [] #the villan\n",
    "        self.public_cards = []\n",
    "        self.deck_size = len(self.deck)\n",
    "        \n",
    "    def deal(self):\n",
    "        #deal 2 cards to each player from the top of the deck\n",
    "        self.p1_hand.append(self.deck.pop(1))\n",
    "        self.p2_hand.append(self.deck.pop(1))\n",
    "        self.p1_hand.append(self.deck.pop(1))\n",
    "        self.p2_hand.append(self.deck.pop(1))\n",
    "        self.deck_size = len(self.deck)\n",
    "        \n",
    "    def flop(self):\n",
    "        #burn 1 card then flop\n",
    "        self.deck.pop(1)\n",
    "        for i in range(3):\n",
    "            self.public_cards.append(slef.deck.pop(1))\n",
    "        self.deck_size = len(self.deck)\n",
    "            \n",
    "    def turn(self):\n",
    "        #burn 1 deal\n",
    "        self.deck.pop(1)\n",
    "        self.public_cards.append(self.deck.pop(1))\n",
    "        self.deck_size = len(self.deck)\n",
    "        \n",
    "    def river(self):\n",
    "        #burn then deal\n",
    "        self.deck.pop(1)\n",
    "        self.public_cards.append(self.deck.pop(1))\n",
    "        self.deck_size = len(self.deck)\n",
    "        \n",
    "    "
   ]
  },
  {
   "cell_type": "code",
   "execution_count": 14,
   "metadata": {},
   "outputs": [],
   "source": [
    "game = Poker_Game(deck)"
   ]
  },
  {
   "cell_type": "code",
   "execution_count": 16,
   "metadata": {},
   "outputs": [],
   "source": [
    "class Agent:\n",
    "    \n",
    "    def __init__(self):\n",
    "        self.game = game\n",
    "        self.game.deal()\n",
    "        self.model = model3\n",
    "        self.cards = game.p1_hand\n",
    "        self.personal_hands = []\n",
    "        self.personal_rank = 0\n",
    "        self.mental_deck = deck\n",
    "        \n",
    "    def eval_hands(self):\n",
    "        print(1)\n",
    "    \n",
    "    def predict_hands(self):\n",
    "        oponent_hands = []\n",
    "        public = self.game.public_cards\n",
    "        for i in public\n",
    "        \n",
    "    \n",
    "        \n",
    "        "
   ]
  },
  {
   "cell_type": "code",
   "execution_count": 69,
   "metadata": {},
   "outputs": [
    {
     "name": "stdout",
     "output_type": "stream",
     "text": [
      "[[3, 10], [3, 7], [2, 8], [1, 6], [3, 1], [2, 6], [1, 9], [2, 5], [3, 8], [4, 9], [2, 13], [2, 1], [1, 12], [4, 4], [1, 2], [3, 2], [2, 3], [1, 1], [3, 4], [1, 4], [1, 11], [3, 6], [3, 3], [2, 12], [4, 13], [1, 3], [2, 4], [4, 8], [2, 2], [3, 9], [3, 5], [4, 6], [4, 2], [4, 7], [2, 7], [3, 13], [4, 3], [1, 13], [2, 11], [3, 11], [2, 10], [4, 1], [1, 8], [4, 11], [4, 12], [1, 5], [3, 12], [1, 10], [4, 10], [1, 7], [4, 5], [2, 9]]\n"
     ]
    }
   ],
   "source": [
    "pokerbot = Agent()"
   ]
  },
  {
   "cell_type": "code",
   "execution_count": null,
   "metadata": {},
   "outputs": [],
   "source": []
  }
 ],
 "metadata": {
  "kernelspec": {
   "display_name": "Python 3",
   "language": "python",
   "name": "python3"
  },
  "language_info": {
   "codemirror_mode": {
    "name": "ipython",
    "version": 3
   },
   "file_extension": ".py",
   "mimetype": "text/x-python",
   "name": "python",
   "nbconvert_exporter": "python",
   "pygments_lexer": "ipython3",
   "version": "3.8.3"
  }
 },
 "nbformat": 4,
 "nbformat_minor": 2
}
